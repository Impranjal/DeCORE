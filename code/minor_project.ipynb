{
 "cells": [
  {
   "cell_type": "code",
   "execution_count": null,
   "metadata": {},
   "outputs": [],
   "source": [
    "%matplotlib inline\n",
    "import matplotlib.pyplot as plt\n",
    "import pandas as pd\n",
    "import sys\n",
    "from sklearn import svm\n",
    "from sklearn.model_selection import train_test_split, StratifiedKFold\n",
    "from sklearn import preprocessing\n",
    "from sklearn.metrics import accuracy_score, precision_recall_fscore_support, roc_auc_score\n",
    "from sklearn.metrics import average_precision_score\n",
    "from sklearn.metrics import classification_report\n",
    "from sklearn.linear_model import LogisticRegression\n",
    "from sklearn.model_selection import KFold\n",
    "from sklearn.model_selection import StratifiedKFold\n",
    "from sklearn.metrics import roc_curve, auc\n",
    "from sklearn.svm import LinearSVC\n",
    "from sklearn.preprocessing import label_binarize\n",
    "import numpy as np\n",
    "df=pd.read_csv('raw.csv')\n",
    "df.to_csv('raw.csv', index=False) \n",
    "fin = open(\"raw.csv\")\n",
    "\n",
    "data_points = df.values.tolist()\n",
    "labels = df['Annotation (0: Bot, 1: Normal customers, 2: Promotional customers, 3: Genuine users)'].tolist()\n",
    "#print(labels)\n",
    "#print(data_points)\n",
    "y=labels\n",
    "val=input(\"Enter 1. For binary ---or---2.For More Genuine  \")\n",
    "if val==1:\n",
    "    for i in len(y):\n",
    "        if y[i] == 0 or y[i] == 1 or y[i] == 2:\n",
    "            y[i]=0\n",
    "        else:\n",
    "            y[i]=1\n",
    "if val==1:\n",
    "    class_name=['genuine', 'non-genuine']\n",
    "    \n",
    "else:\n",
    "    class_name=['bots', 'normal', 'promotional', 'genuine']\n",
    "data_points=np.array(data_points)\n",
    "y=np.array(y)\n",
    "kf = StratifiedKFold(n_splits=2,shuffle=True)\n",
    "for train_index, test_index in kf.split(data_points, y):\n",
    "\n",
    "    X_train, X_test = data_points[train_index], data_points[test_index]\n",
    "    y_train, y_test = y[train_index], y[test_index]\n",
    "    #X_train,X_test,y_train,y_test=train_test_split(X,y,random_state=0)\n",
    "    X_train = preprocessing.scale(X_train)\n",
    "    X_test = preprocessing.scale(X_test)\n",
    "    clf = LogisticRegression()\n",
    "    clf.fit(X_train, y_train)\n",
    "    y_pred = clf.predict(X_test)\n",
    "    print(\"Accuracy score is\",accuracy_score(y_test,y_pred))\n",
    "    classifier = svm.LinearSVC(random_state=0)\n",
    "    classifier.fit(X_train, y_train)\n",
    "    y_score = classifier.decision_function(X_test)\n",
    "    average_precision = average_precision_score(y_test, y_score)\n",
    "    print('Average precision-recall score: {0:0.2f}'.format(\n",
    "      average_precision))"
   ]
  },
  {
   "cell_type": "code",
   "execution_count": null,
   "metadata": {},
   "outputs": [],
   "source": []
  },
  {
   "cell_type": "code",
   "execution_count": null,
   "metadata": {},
   "outputs": [],
   "source": []
  },
  {
   "cell_type": "code",
   "execution_count": null,
   "metadata": {},
   "outputs": [],
   "source": []
  },
  {
   "cell_type": "code",
   "execution_count": null,
   "metadata": {},
   "outputs": [],
   "source": []
  },
  {
   "cell_type": "code",
   "execution_count": null,
   "metadata": {},
   "outputs": [],
   "source": []
  }
 ],
 "metadata": {
  "kernelspec": {
   "display_name": "Python 3",
   "language": "python",
   "name": "python3"
  },
  "language_info": {
   "codemirror_mode": {
    "name": "ipython",
    "version": 3
   },
   "file_extension": ".py",
   "mimetype": "text/x-python",
   "name": "python",
   "nbconvert_exporter": "python",
   "pygments_lexer": "ipython3",
   "version": "3.6.8"
  }
 },
 "nbformat": 4,
 "nbformat_minor": 2
}
